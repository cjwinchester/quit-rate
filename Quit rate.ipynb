{
 "cells": [
  {
   "cell_type": "code",
   "execution_count": 10,
   "id": "ced42526-1c67-4b5f-b848-a0a35ac5e8a0",
   "metadata": {},
   "outputs": [],
   "source": [
    "import os\n",
    "from datetime import date\n",
    "\n",
    "import requests\n",
    "import pandas as pd\n",
    "import altair as alt"
   ]
  },
  {
   "cell_type": "code",
   "execution_count": 11,
   "id": "e5114e2d-97da-4176-98f5-54a2c5cbe722",
   "metadata": {},
   "outputs": [],
   "source": [
    "API_KEY = os.environ.get('BLS_API_KEY')"
   ]
  },
  {
   "cell_type": "code",
   "execution_count": 12,
   "id": "beb616e3-ddb7-4b3e-9398-7985c210e444",
   "metadata": {},
   "outputs": [],
   "source": [
    "BASE_URL = 'https://api.bls.gov/publicAPI/v2/timeseries/data/'"
   ]
  },
  {
   "cell_type": "code",
   "execution_count": 13,
   "id": "c76fb218-3b2c-406d-b17e-c9054ff76ff0",
   "metadata": {},
   "outputs": [],
   "source": [
    "# This series ID denotes all industries, all U.S. regions, seasonally adjusted quit rate\n",
    "# REF: https://www.bls.gov/help/hlpforma.htm#jt\n",
    "JOLTS_SERIES = 'JTS000000000000000QUR'"
   ]
  },
  {
   "cell_type": "code",
   "execution_count": 14,
   "id": "1756cc19-4872-447f-8c75-f811822c7b7a",
   "metadata": {},
   "outputs": [
    {
     "name": "stdout",
     "output_type": "stream",
     "text": [
      "[(2001, 2010), (2011, 2020), (2021, 2021)]\n"
     ]
    }
   ],
   "source": [
    "# the API only allows you to grab 10 years of data at a time,\n",
    "# so breaking this into chunks for future resiliency\n",
    "first_year = 2001\n",
    "this_year = date.today().year\n",
    "\n",
    "start_years = list(range(first_year, this_year+1, 10))\n",
    "year_ranges = [(x, x+9) if x+9 < this_year else (x, x) for x in start_years]\n",
    "print(year_ranges)"
   ]
  },
  {
   "cell_type": "code",
   "execution_count": 15,
   "id": "a0d35672-68eb-4f80-a033-9de9c149d752",
   "metadata": {},
   "outputs": [],
   "source": [
    "jolts_data = []"
   ]
  },
  {
   "cell_type": "code",
   "execution_count": 16,
   "id": "a521c512-0b3e-43f0-b08b-2b88e3fe2888",
   "metadata": {},
   "outputs": [],
   "source": [
    "for years in year_ranges:\n",
    "    data = {\n",
    "        'registrationkey': API_KEY,\n",
    "        'seriesid': JOLTS_SERIES,\n",
    "        'startyear': years[0],\n",
    "        'endyear': years[1]\n",
    "    }\n",
    "    r = requests.post(BASE_URL, data=data)\n",
    "    r.raise_for_status()\n",
    "    this_data = r.json()['Results']['series'][0]['data']\n",
    "    jolts_data += this_data"
   ]
  },
  {
   "cell_type": "code",
   "execution_count": 17,
   "id": "c6d1e035-4efc-49b1-a13e-3d30d2bc46b9",
   "metadata": {},
   "outputs": [],
   "source": [
    "jolts_data.sort(key=lambda x: (x['year'], x['period']))"
   ]
  },
  {
   "cell_type": "code",
   "execution_count": 18,
   "id": "9f5525a3-fa5f-4f71-a40f-2b1eb20ca4c8",
   "metadata": {},
   "outputs": [],
   "source": [
    "df = pd.DataFrame(data=jolts_data)[['year', 'period', 'value']]"
   ]
  },
  {
   "cell_type": "code",
   "execution_count": 19,
   "id": "41c4e671-2029-4386-98d8-5ff8f259e118",
   "metadata": {},
   "outputs": [
    {
     "data": {
      "text/html": [
       "<div>\n",
       "<style scoped>\n",
       "    .dataframe tbody tr th:only-of-type {\n",
       "        vertical-align: middle;\n",
       "    }\n",
       "\n",
       "    .dataframe tbody tr th {\n",
       "        vertical-align: top;\n",
       "    }\n",
       "\n",
       "    .dataframe thead th {\n",
       "        text-align: right;\n",
       "    }\n",
       "</style>\n",
       "<table border=\"1\" class=\"dataframe\">\n",
       "  <thead>\n",
       "    <tr style=\"text-align: right;\">\n",
       "      <th></th>\n",
       "      <th>year</th>\n",
       "      <th>period</th>\n",
       "      <th>value</th>\n",
       "    </tr>\n",
       "  </thead>\n",
       "  <tbody>\n",
       "    <tr>\n",
       "      <th>0</th>\n",
       "      <td>2001</td>\n",
       "      <td>M01</td>\n",
       "      <td>2.4</td>\n",
       "    </tr>\n",
       "    <tr>\n",
       "      <th>1</th>\n",
       "      <td>2001</td>\n",
       "      <td>M02</td>\n",
       "      <td>2.3</td>\n",
       "    </tr>\n",
       "    <tr>\n",
       "      <th>2</th>\n",
       "      <td>2001</td>\n",
       "      <td>M03</td>\n",
       "      <td>2.3</td>\n",
       "    </tr>\n",
       "    <tr>\n",
       "      <th>3</th>\n",
       "      <td>2001</td>\n",
       "      <td>M04</td>\n",
       "      <td>2.4</td>\n",
       "    </tr>\n",
       "    <tr>\n",
       "      <th>4</th>\n",
       "      <td>2001</td>\n",
       "      <td>M05</td>\n",
       "      <td>2.3</td>\n",
       "    </tr>\n",
       "  </tbody>\n",
       "</table>\n",
       "</div>"
      ],
      "text/plain": [
       "   year period value\n",
       "0  2001    M01   2.4\n",
       "1  2001    M02   2.3\n",
       "2  2001    M03   2.3\n",
       "3  2001    M04   2.4\n",
       "4  2001    M05   2.3"
      ]
     },
     "execution_count": 19,
     "metadata": {},
     "output_type": "execute_result"
    }
   ],
   "source": [
    "df.head()"
   ]
  },
  {
   "cell_type": "code",
   "execution_count": 20,
   "id": "a4cd2e49-5ebe-4f2e-a765-3563c823dfb0",
   "metadata": {},
   "outputs": [
    {
     "data": {
      "text/plain": [
       "2001    12\n",
       "2002    12\n",
       "2003    12\n",
       "2004    12\n",
       "2005    12\n",
       "2006    12\n",
       "2007    12\n",
       "2008    12\n",
       "2009    12\n",
       "2010    12\n",
       "2011    12\n",
       "2012    12\n",
       "2013    12\n",
       "2014    12\n",
       "2015    12\n",
       "2016    12\n",
       "2017    12\n",
       "2018    12\n",
       "2019    12\n",
       "2020    12\n",
       "2021     8\n",
       "Name: year, dtype: int64"
      ]
     },
     "execution_count": 20,
     "metadata": {},
     "output_type": "execute_result"
    }
   ],
   "source": [
    "# a few integrity checks\n",
    "df.year.value_counts().sort_index()"
   ]
  },
  {
   "cell_type": "code",
   "execution_count": 21,
   "id": "0529f634-82ec-4597-95c2-c87bcfde30f6",
   "metadata": {},
   "outputs": [
    {
     "data": {
      "text/plain": [
       "M01    21\n",
       "M02    21\n",
       "M03    21\n",
       "M04    21\n",
       "M05    21\n",
       "M06    21\n",
       "M07    21\n",
       "M08    21\n",
       "M09    20\n",
       "M10    20\n",
       "M11    20\n",
       "M12    20\n",
       "Name: period, dtype: int64"
      ]
     },
     "execution_count": 21,
     "metadata": {},
     "output_type": "execute_result"
    }
   ],
   "source": [
    "# a few integrity checks\n",
    "df.period.value_counts().sort_index()"
   ]
  },
  {
   "cell_type": "code",
   "execution_count": 22,
   "id": "c06fbc79-f5f3-4b7e-8d29-1fe3b9794206",
   "metadata": {},
   "outputs": [
    {
     "name": "stdout",
     "output_type": "stream",
     "text": [
      "1.2\n",
      "2.9\n"
     ]
    }
   ],
   "source": [
    "# a few integrity checks\n",
    "print(df.value.min())\n",
    "print(df.value.max())"
   ]
  },
  {
   "cell_type": "code",
   "execution_count": 24,
   "id": "155239ae-7a66-4690-aa55-c1f2306c9cd4",
   "metadata": {},
   "outputs": [],
   "source": [
    "# create a date column for the chart\n",
    "df['date'] = df.apply(lambda row: row['year'] + '-' + row['period'].lstrip('M') + '-01', axis=1)\n",
    "df['date'] = pd.to_datetime(df['date'])"
   ]
  },
  {
   "cell_type": "code",
   "execution_count": 25,
   "id": "a8f554e9-e3db-42f0-a974-df5390058878",
   "metadata": {},
   "outputs": [
    {
     "data": {
      "text/html": [
       "<div>\n",
       "<style scoped>\n",
       "    .dataframe tbody tr th:only-of-type {\n",
       "        vertical-align: middle;\n",
       "    }\n",
       "\n",
       "    .dataframe tbody tr th {\n",
       "        vertical-align: top;\n",
       "    }\n",
       "\n",
       "    .dataframe thead th {\n",
       "        text-align: right;\n",
       "    }\n",
       "</style>\n",
       "<table border=\"1\" class=\"dataframe\">\n",
       "  <thead>\n",
       "    <tr style=\"text-align: right;\">\n",
       "      <th></th>\n",
       "      <th>year</th>\n",
       "      <th>period</th>\n",
       "      <th>value</th>\n",
       "      <th>date</th>\n",
       "    </tr>\n",
       "  </thead>\n",
       "  <tbody>\n",
       "    <tr>\n",
       "      <th>0</th>\n",
       "      <td>2001</td>\n",
       "      <td>M01</td>\n",
       "      <td>2.4</td>\n",
       "      <td>2001-01-01</td>\n",
       "    </tr>\n",
       "    <tr>\n",
       "      <th>1</th>\n",
       "      <td>2001</td>\n",
       "      <td>M02</td>\n",
       "      <td>2.3</td>\n",
       "      <td>2001-02-01</td>\n",
       "    </tr>\n",
       "    <tr>\n",
       "      <th>2</th>\n",
       "      <td>2001</td>\n",
       "      <td>M03</td>\n",
       "      <td>2.3</td>\n",
       "      <td>2001-03-01</td>\n",
       "    </tr>\n",
       "    <tr>\n",
       "      <th>3</th>\n",
       "      <td>2001</td>\n",
       "      <td>M04</td>\n",
       "      <td>2.4</td>\n",
       "      <td>2001-04-01</td>\n",
       "    </tr>\n",
       "    <tr>\n",
       "      <th>4</th>\n",
       "      <td>2001</td>\n",
       "      <td>M05</td>\n",
       "      <td>2.3</td>\n",
       "      <td>2001-05-01</td>\n",
       "    </tr>\n",
       "  </tbody>\n",
       "</table>\n",
       "</div>"
      ],
      "text/plain": [
       "   year period value       date\n",
       "0  2001    M01   2.4 2001-01-01\n",
       "1  2001    M02   2.3 2001-02-01\n",
       "2  2001    M03   2.3 2001-03-01\n",
       "3  2001    M04   2.4 2001-04-01\n",
       "4  2001    M05   2.3 2001-05-01"
      ]
     },
     "execution_count": 25,
     "metadata": {},
     "output_type": "execute_result"
    }
   ],
   "source": [
    "df.head()"
   ]
  },
  {
   "cell_type": "code",
   "execution_count": 26,
   "id": "3eac1f27-c349-4e67-b57f-48c1031819ee",
   "metadata": {},
   "outputs": [],
   "source": [
    "# adjust the numbers for percent display -- divide by 100\n",
    "# to reverse the multiplication by 100 that happened upstream\n",
    "df['value'] = df['value'].astype(float) / 100.0"
   ]
  },
  {
   "cell_type": "code",
   "execution_count": 27,
   "id": "b1fcbe08-6906-4012-b591-fcbefd7d49a7",
   "metadata": {},
   "outputs": [
    {
     "data": {
      "text/html": [
       "\n",
       "<div id=\"altair-viz-843d6963576a4e63b635dbaf8c0e3e30\"></div>\n",
       "<script type=\"text/javascript\">\n",
       "  (function(spec, embedOpt){\n",
       "    let outputDiv = document.currentScript.previousElementSibling;\n",
       "    if (outputDiv.id !== \"altair-viz-843d6963576a4e63b635dbaf8c0e3e30\") {\n",
       "      outputDiv = document.getElementById(\"altair-viz-843d6963576a4e63b635dbaf8c0e3e30\");\n",
       "    }\n",
       "    const paths = {\n",
       "      \"vega\": \"https://cdn.jsdelivr.net/npm//vega@5?noext\",\n",
       "      \"vega-lib\": \"https://cdn.jsdelivr.net/npm//vega-lib?noext\",\n",
       "      \"vega-lite\": \"https://cdn.jsdelivr.net/npm//vega-lite@4.8.1?noext\",\n",
       "      \"vega-embed\": \"https://cdn.jsdelivr.net/npm//vega-embed@6?noext\",\n",
       "    };\n",
       "\n",
       "    function loadScript(lib) {\n",
       "      return new Promise(function(resolve, reject) {\n",
       "        var s = document.createElement('script');\n",
       "        s.src = paths[lib];\n",
       "        s.async = true;\n",
       "        s.onload = () => resolve(paths[lib]);\n",
       "        s.onerror = () => reject(`Error loading script: ${paths[lib]}`);\n",
       "        document.getElementsByTagName(\"head\")[0].appendChild(s);\n",
       "      });\n",
       "    }\n",
       "\n",
       "    function showError(err) {\n",
       "      outputDiv.innerHTML = `<div class=\"error\" style=\"color:red;\">${err}</div>`;\n",
       "      throw err;\n",
       "    }\n",
       "\n",
       "    function displayChart(vegaEmbed) {\n",
       "      vegaEmbed(outputDiv, spec, embedOpt)\n",
       "        .catch(err => showError(`Javascript Error: ${err.message}<br>This usually means there's a typo in your chart specification. See the javascript console for the full traceback.`));\n",
       "    }\n",
       "\n",
       "    if(typeof define === \"function\" && define.amd) {\n",
       "      requirejs.config({paths});\n",
       "      require([\"vega-embed\"], displayChart, err => showError(`Error loading script: ${err.message}`));\n",
       "    } else if (typeof vegaEmbed === \"function\") {\n",
       "      displayChart(vegaEmbed);\n",
       "    } else {\n",
       "      loadScript(\"vega\")\n",
       "        .then(() => loadScript(\"vega-lite\"))\n",
       "        .then(() => loadScript(\"vega-embed\"))\n",
       "        .catch(showError)\n",
       "        .then(() => displayChart(vegaEmbed));\n",
       "    }\n",
       "  })({\"config\": {\"view\": {\"continuousWidth\": 400, \"continuousHeight\": 300}}, \"data\": {\"name\": \"data-16ef2edf6e559527a8beb3bc3e8fcf0c\"}, \"mark\": {\"type\": \"area\", \"color\": \"lightblue\", \"interpolate\": \"step-before\", \"line\": true}, \"encoding\": {\"x\": {\"type\": \"temporal\", \"axis\": {\"title\": \"\"}, \"field\": \"date\"}, \"y\": {\"type\": \"quantitative\", \"axis\": {\"format\": \"%\", \"title\": \"Quit rate\"}, \"field\": \"value\"}}, \"width\": 800, \"$schema\": \"https://vega.github.io/schema/vega-lite/v4.8.1.json\", \"datasets\": {\"data-16ef2edf6e559527a8beb3bc3e8fcf0c\": [{\"year\": \"2001\", \"period\": \"M01\", \"value\": 0.024, \"date\": \"2001-01-01T00:00:00\"}, {\"year\": \"2001\", \"period\": \"M02\", \"value\": 0.023, \"date\": \"2001-02-01T00:00:00\"}, {\"year\": \"2001\", \"period\": \"M03\", \"value\": 0.023, \"date\": \"2001-03-01T00:00:00\"}, {\"year\": \"2001\", \"period\": \"M04\", \"value\": 0.024, \"date\": \"2001-04-01T00:00:00\"}, {\"year\": \"2001\", \"period\": \"M05\", \"value\": 0.023, \"date\": \"2001-05-01T00:00:00\"}, {\"year\": \"2001\", \"period\": \"M06\", \"value\": 0.022000000000000002, \"date\": \"2001-06-01T00:00:00\"}, {\"year\": \"2001\", \"period\": \"M07\", \"value\": 0.022000000000000002, \"date\": \"2001-07-01T00:00:00\"}, {\"year\": \"2001\", \"period\": \"M08\", \"value\": 0.022000000000000002, \"date\": \"2001-08-01T00:00:00\"}, {\"year\": \"2001\", \"period\": \"M09\", \"value\": 0.021, \"date\": \"2001-09-01T00:00:00\"}, {\"year\": \"2001\", \"period\": \"M10\", \"value\": 0.021, \"date\": \"2001-10-01T00:00:00\"}, {\"year\": \"2001\", \"period\": \"M11\", \"value\": 0.02, \"date\": \"2001-11-01T00:00:00\"}, {\"year\": \"2001\", \"period\": \"M12\", \"value\": 0.02, \"date\": \"2001-12-01T00:00:00\"}, {\"year\": \"2002\", \"period\": \"M01\", \"value\": 0.022000000000000002, \"date\": \"2002-01-01T00:00:00\"}, {\"year\": \"2002\", \"period\": \"M02\", \"value\": 0.02, \"date\": \"2002-02-01T00:00:00\"}, {\"year\": \"2002\", \"period\": \"M03\", \"value\": 0.019, \"date\": \"2002-03-01T00:00:00\"}, {\"year\": \"2002\", \"period\": \"M04\", \"value\": 0.02, \"date\": \"2002-04-01T00:00:00\"}, {\"year\": \"2002\", \"period\": \"M05\", \"value\": 0.019, \"date\": \"2002-05-01T00:00:00\"}, {\"year\": \"2002\", \"period\": \"M06\", \"value\": 0.019, \"date\": \"2002-06-01T00:00:00\"}, {\"year\": \"2002\", \"period\": \"M07\", \"value\": 0.02, \"date\": \"2002-07-01T00:00:00\"}, {\"year\": \"2002\", \"period\": \"M08\", \"value\": 0.02, \"date\": \"2002-08-01T00:00:00\"}, {\"year\": \"2002\", \"period\": \"M09\", \"value\": 0.019, \"date\": \"2002-09-01T00:00:00\"}, {\"year\": \"2002\", \"period\": \"M10\", \"value\": 0.019, \"date\": \"2002-10-01T00:00:00\"}, {\"year\": \"2002\", \"period\": \"M11\", \"value\": 0.018000000000000002, \"date\": \"2002-11-01T00:00:00\"}, {\"year\": \"2002\", \"period\": \"M12\", \"value\": 0.019, \"date\": \"2002-12-01T00:00:00\"}, {\"year\": \"2003\", \"period\": \"M01\", \"value\": 0.019, \"date\": \"2003-01-01T00:00:00\"}, {\"year\": \"2003\", \"period\": \"M02\", \"value\": 0.019, \"date\": \"2003-02-01T00:00:00\"}, {\"year\": \"2003\", \"period\": \"M03\", \"value\": 0.018000000000000002, \"date\": \"2003-03-01T00:00:00\"}, {\"year\": \"2003\", \"period\": \"M04\", \"value\": 0.018000000000000002, \"date\": \"2003-04-01T00:00:00\"}, {\"year\": \"2003\", \"period\": \"M05\", \"value\": 0.018000000000000002, \"date\": \"2003-05-01T00:00:00\"}, {\"year\": \"2003\", \"period\": \"M06\", \"value\": 0.018000000000000002, \"date\": \"2003-06-01T00:00:00\"}, {\"year\": \"2003\", \"period\": \"M07\", \"value\": 0.017, \"date\": \"2003-07-01T00:00:00\"}, {\"year\": \"2003\", \"period\": \"M08\", \"value\": 0.017, \"date\": \"2003-08-01T00:00:00\"}, {\"year\": \"2003\", \"period\": \"M09\", \"value\": 0.018000000000000002, \"date\": \"2003-09-01T00:00:00\"}, {\"year\": \"2003\", \"period\": \"M10\", \"value\": 0.019, \"date\": \"2003-10-01T00:00:00\"}, {\"year\": \"2003\", \"period\": \"M11\", \"value\": 0.018000000000000002, \"date\": \"2003-11-01T00:00:00\"}, {\"year\": \"2003\", \"period\": \"M12\", \"value\": 0.019, \"date\": \"2003-12-01T00:00:00\"}, {\"year\": \"2004\", \"period\": \"M01\", \"value\": 0.018000000000000002, \"date\": \"2004-01-01T00:00:00\"}, {\"year\": \"2004\", \"period\": \"M02\", \"value\": 0.019, \"date\": \"2004-02-01T00:00:00\"}, {\"year\": \"2004\", \"period\": \"M03\", \"value\": 0.02, \"date\": \"2004-03-01T00:00:00\"}, {\"year\": \"2004\", \"period\": \"M04\", \"value\": 0.019, \"date\": \"2004-04-01T00:00:00\"}, {\"year\": \"2004\", \"period\": \"M05\", \"value\": 0.018000000000000002, \"date\": \"2004-05-01T00:00:00\"}, {\"year\": \"2004\", \"period\": \"M06\", \"value\": 0.02, \"date\": \"2004-06-01T00:00:00\"}, {\"year\": \"2004\", \"period\": \"M07\", \"value\": 0.02, \"date\": \"2004-07-01T00:00:00\"}, {\"year\": \"2004\", \"period\": \"M08\", \"value\": 0.02, \"date\": \"2004-08-01T00:00:00\"}, {\"year\": \"2004\", \"period\": \"M09\", \"value\": 0.019, \"date\": \"2004-09-01T00:00:00\"}, {\"year\": \"2004\", \"period\": \"M10\", \"value\": 0.019, \"date\": \"2004-10-01T00:00:00\"}, {\"year\": \"2004\", \"period\": \"M11\", \"value\": 0.021, \"date\": \"2004-11-01T00:00:00\"}, {\"year\": \"2004\", \"period\": \"M12\", \"value\": 0.02, \"date\": \"2004-12-01T00:00:00\"}, {\"year\": \"2005\", \"period\": \"M01\", \"value\": 0.021, \"date\": \"2005-01-01T00:00:00\"}, {\"year\": \"2005\", \"period\": \"M02\", \"value\": 0.02, \"date\": \"2005-02-01T00:00:00\"}, {\"year\": \"2005\", \"period\": \"M03\", \"value\": 0.021, \"date\": \"2005-03-01T00:00:00\"}, {\"year\": \"2005\", \"period\": \"M04\", \"value\": 0.021, \"date\": \"2005-04-01T00:00:00\"}, {\"year\": \"2005\", \"period\": \"M05\", \"value\": 0.021, \"date\": \"2005-05-01T00:00:00\"}, {\"year\": \"2005\", \"period\": \"M06\", \"value\": 0.021, \"date\": \"2005-06-01T00:00:00\"}, {\"year\": \"2005\", \"period\": \"M07\", \"value\": 0.02, \"date\": \"2005-07-01T00:00:00\"}, {\"year\": \"2005\", \"period\": \"M08\", \"value\": 0.022000000000000002, \"date\": \"2005-08-01T00:00:00\"}, {\"year\": \"2005\", \"period\": \"M09\", \"value\": 0.023, \"date\": \"2005-09-01T00:00:00\"}, {\"year\": \"2005\", \"period\": \"M10\", \"value\": 0.021, \"date\": \"2005-10-01T00:00:00\"}, {\"year\": \"2005\", \"period\": \"M11\", \"value\": 0.021, \"date\": \"2005-11-01T00:00:00\"}, {\"year\": \"2005\", \"period\": \"M12\", \"value\": 0.021, \"date\": \"2005-12-01T00:00:00\"}, {\"year\": \"2006\", \"period\": \"M01\", \"value\": 0.022000000000000002, \"date\": \"2006-01-01T00:00:00\"}, {\"year\": \"2006\", \"period\": \"M02\", \"value\": 0.022000000000000002, \"date\": \"2006-02-01T00:00:00\"}, {\"year\": \"2006\", \"period\": \"M03\", \"value\": 0.022000000000000002, \"date\": \"2006-03-01T00:00:00\"}, {\"year\": \"2006\", \"period\": \"M04\", \"value\": 0.02, \"date\": \"2006-04-01T00:00:00\"}, {\"year\": \"2006\", \"period\": \"M05\", \"value\": 0.022000000000000002, \"date\": \"2006-05-01T00:00:00\"}, {\"year\": \"2006\", \"period\": \"M06\", \"value\": 0.022000000000000002, \"date\": \"2006-06-01T00:00:00\"}, {\"year\": \"2006\", \"period\": \"M07\", \"value\": 0.022000000000000002, \"date\": \"2006-07-01T00:00:00\"}, {\"year\": \"2006\", \"period\": \"M08\", \"value\": 0.022000000000000002, \"date\": \"2006-08-01T00:00:00\"}, {\"year\": \"2006\", \"period\": \"M09\", \"value\": 0.021, \"date\": \"2006-09-01T00:00:00\"}, {\"year\": \"2006\", \"period\": \"M10\", \"value\": 0.022000000000000002, \"date\": \"2006-10-01T00:00:00\"}, {\"year\": \"2006\", \"period\": \"M11\", \"value\": 0.022000000000000002, \"date\": \"2006-11-01T00:00:00\"}, {\"year\": \"2006\", \"period\": \"M12\", \"value\": 0.022000000000000002, \"date\": \"2006-12-01T00:00:00\"}, {\"year\": \"2007\", \"period\": \"M01\", \"value\": 0.021, \"date\": \"2007-01-01T00:00:00\"}, {\"year\": \"2007\", \"period\": \"M02\", \"value\": 0.021, \"date\": \"2007-02-01T00:00:00\"}, {\"year\": \"2007\", \"period\": \"M03\", \"value\": 0.022000000000000002, \"date\": \"2007-03-01T00:00:00\"}, {\"year\": \"2007\", \"period\": \"M04\", \"value\": 0.021, \"date\": \"2007-04-01T00:00:00\"}, {\"year\": \"2007\", \"period\": \"M05\", \"value\": 0.022000000000000002, \"date\": \"2007-05-01T00:00:00\"}, {\"year\": \"2007\", \"period\": \"M06\", \"value\": 0.021, \"date\": \"2007-06-01T00:00:00\"}, {\"year\": \"2007\", \"period\": \"M07\", \"value\": 0.021, \"date\": \"2007-07-01T00:00:00\"}, {\"year\": \"2007\", \"period\": \"M08\", \"value\": 0.022000000000000002, \"date\": \"2007-08-01T00:00:00\"}, {\"year\": \"2007\", \"period\": \"M09\", \"value\": 0.019, \"date\": \"2007-09-01T00:00:00\"}, {\"year\": \"2007\", \"period\": \"M10\", \"value\": 0.021, \"date\": \"2007-10-01T00:00:00\"}, {\"year\": \"2007\", \"period\": \"M11\", \"value\": 0.02, \"date\": \"2007-11-01T00:00:00\"}, {\"year\": \"2007\", \"period\": \"M12\", \"value\": 0.02, \"date\": \"2007-12-01T00:00:00\"}, {\"year\": \"2008\", \"period\": \"M01\", \"value\": 0.021, \"date\": \"2008-01-01T00:00:00\"}, {\"year\": \"2008\", \"period\": \"M02\", \"value\": 0.021, \"date\": \"2008-02-01T00:00:00\"}, {\"year\": \"2008\", \"period\": \"M03\", \"value\": 0.019, \"date\": \"2008-03-01T00:00:00\"}, {\"year\": \"2008\", \"period\": \"M04\", \"value\": 0.021, \"date\": \"2008-04-01T00:00:00\"}, {\"year\": \"2008\", \"period\": \"M05\", \"value\": 0.019, \"date\": \"2008-05-01T00:00:00\"}, {\"year\": \"2008\", \"period\": \"M06\", \"value\": 0.019, \"date\": \"2008-06-01T00:00:00\"}, {\"year\": \"2008\", \"period\": \"M07\", \"value\": 0.018000000000000002, \"date\": \"2008-07-01T00:00:00\"}, {\"year\": \"2008\", \"period\": \"M08\", \"value\": 0.018000000000000002, \"date\": \"2008-08-01T00:00:00\"}, {\"year\": \"2008\", \"period\": \"M09\", \"value\": 0.018000000000000002, \"date\": \"2008-09-01T00:00:00\"}, {\"year\": \"2008\", \"period\": \"M10\", \"value\": 0.017, \"date\": \"2008-10-01T00:00:00\"}, {\"year\": \"2008\", \"period\": \"M11\", \"value\": 0.016, \"date\": \"2008-11-01T00:00:00\"}, {\"year\": \"2008\", \"period\": \"M12\", \"value\": 0.015, \"date\": \"2008-12-01T00:00:00\"}, {\"year\": \"2009\", \"period\": \"M01\", \"value\": 0.015, \"date\": \"2009-01-01T00:00:00\"}, {\"year\": \"2009\", \"period\": \"M02\", \"value\": 0.015, \"date\": \"2009-02-01T00:00:00\"}, {\"year\": \"2009\", \"period\": \"M03\", \"value\": 0.013999999999999999, \"date\": \"2009-03-01T00:00:00\"}, {\"year\": \"2009\", \"period\": \"M04\", \"value\": 0.013000000000000001, \"date\": \"2009-04-01T00:00:00\"}, {\"year\": \"2009\", \"period\": \"M05\", \"value\": 0.013000000000000001, \"date\": \"2009-05-01T00:00:00\"}, {\"year\": \"2009\", \"period\": \"M06\", \"value\": 0.013000000000000001, \"date\": \"2009-06-01T00:00:00\"}, {\"year\": \"2009\", \"period\": \"M07\", \"value\": 0.013000000000000001, \"date\": \"2009-07-01T00:00:00\"}, {\"year\": \"2009\", \"period\": \"M08\", \"value\": 0.012, \"date\": \"2009-08-01T00:00:00\"}, {\"year\": \"2009\", \"period\": \"M09\", \"value\": 0.012, \"date\": \"2009-09-01T00:00:00\"}, {\"year\": \"2009\", \"period\": \"M10\", \"value\": 0.013000000000000001, \"date\": \"2009-10-01T00:00:00\"}, {\"year\": \"2009\", \"period\": \"M11\", \"value\": 0.013999999999999999, \"date\": \"2009-11-01T00:00:00\"}, {\"year\": \"2009\", \"period\": \"M12\", \"value\": 0.013999999999999999, \"date\": \"2009-12-01T00:00:00\"}, {\"year\": \"2010\", \"period\": \"M01\", \"value\": 0.013000000000000001, \"date\": \"2010-01-01T00:00:00\"}, {\"year\": \"2010\", \"period\": \"M02\", \"value\": 0.013999999999999999, \"date\": \"2010-02-01T00:00:00\"}, {\"year\": \"2010\", \"period\": \"M03\", \"value\": 0.013999999999999999, \"date\": \"2010-03-01T00:00:00\"}, {\"year\": \"2010\", \"period\": \"M04\", \"value\": 0.015, \"date\": \"2010-04-01T00:00:00\"}, {\"year\": \"2010\", \"period\": \"M05\", \"value\": 0.013999999999999999, \"date\": \"2010-05-01T00:00:00\"}, {\"year\": \"2010\", \"period\": \"M06\", \"value\": 0.015, \"date\": \"2010-06-01T00:00:00\"}, {\"year\": \"2010\", \"period\": \"M07\", \"value\": 0.013999999999999999, \"date\": \"2010-07-01T00:00:00\"}, {\"year\": \"2010\", \"period\": \"M08\", \"value\": 0.013999999999999999, \"date\": \"2010-08-01T00:00:00\"}, {\"year\": \"2010\", \"period\": \"M09\", \"value\": 0.015, \"date\": \"2010-09-01T00:00:00\"}, {\"year\": \"2010\", \"period\": \"M10\", \"value\": 0.013999999999999999, \"date\": \"2010-10-01T00:00:00\"}, {\"year\": \"2010\", \"period\": \"M11\", \"value\": 0.013999999999999999, \"date\": \"2010-11-01T00:00:00\"}, {\"year\": \"2010\", \"period\": \"M12\", \"value\": 0.015, \"date\": \"2010-12-01T00:00:00\"}, {\"year\": \"2011\", \"period\": \"M01\", \"value\": 0.013999999999999999, \"date\": \"2011-01-01T00:00:00\"}, {\"year\": \"2011\", \"period\": \"M02\", \"value\": 0.015, \"date\": \"2011-02-01T00:00:00\"}, {\"year\": \"2011\", \"period\": \"M03\", \"value\": 0.015, \"date\": \"2011-03-01T00:00:00\"}, {\"year\": \"2011\", \"period\": \"M04\", \"value\": 0.013999999999999999, \"date\": \"2011-04-01T00:00:00\"}, {\"year\": \"2011\", \"period\": \"M05\", \"value\": 0.015, \"date\": \"2011-05-01T00:00:00\"}, {\"year\": \"2011\", \"period\": \"M06\", \"value\": 0.015, \"date\": \"2011-06-01T00:00:00\"}, {\"year\": \"2011\", \"period\": \"M07\", \"value\": 0.015, \"date\": \"2011-07-01T00:00:00\"}, {\"year\": \"2011\", \"period\": \"M08\", \"value\": 0.015, \"date\": \"2011-08-01T00:00:00\"}, {\"year\": \"2011\", \"period\": \"M09\", \"value\": 0.015, \"date\": \"2011-09-01T00:00:00\"}, {\"year\": \"2011\", \"period\": \"M10\", \"value\": 0.015, \"date\": \"2011-10-01T00:00:00\"}, {\"year\": \"2011\", \"period\": \"M11\", \"value\": 0.015, \"date\": \"2011-11-01T00:00:00\"}, {\"year\": \"2011\", \"period\": \"M12\", \"value\": 0.015, \"date\": \"2011-12-01T00:00:00\"}, {\"year\": \"2012\", \"period\": \"M01\", \"value\": 0.015, \"date\": \"2012-01-01T00:00:00\"}, {\"year\": \"2012\", \"period\": \"M02\", \"value\": 0.016, \"date\": \"2012-02-01T00:00:00\"}, {\"year\": \"2012\", \"period\": \"M03\", \"value\": 0.016, \"date\": \"2012-03-01T00:00:00\"}, {\"year\": \"2012\", \"period\": \"M04\", \"value\": 0.016, \"date\": \"2012-04-01T00:00:00\"}, {\"year\": \"2012\", \"period\": \"M05\", \"value\": 0.016, \"date\": \"2012-05-01T00:00:00\"}, {\"year\": \"2012\", \"period\": \"M06\", \"value\": 0.016, \"date\": \"2012-06-01T00:00:00\"}, {\"year\": \"2012\", \"period\": \"M07\", \"value\": 0.015, \"date\": \"2012-07-01T00:00:00\"}, {\"year\": \"2012\", \"period\": \"M08\", \"value\": 0.015, \"date\": \"2012-08-01T00:00:00\"}, {\"year\": \"2012\", \"period\": \"M09\", \"value\": 0.013999999999999999, \"date\": \"2012-09-01T00:00:00\"}, {\"year\": \"2012\", \"period\": \"M10\", \"value\": 0.015, \"date\": \"2012-10-01T00:00:00\"}, {\"year\": \"2012\", \"period\": \"M11\", \"value\": 0.015, \"date\": \"2012-11-01T00:00:00\"}, {\"year\": \"2012\", \"period\": \"M12\", \"value\": 0.015, \"date\": \"2012-12-01T00:00:00\"}, {\"year\": \"2013\", \"period\": \"M01\", \"value\": 0.017, \"date\": \"2013-01-01T00:00:00\"}, {\"year\": \"2013\", \"period\": \"M02\", \"value\": 0.017, \"date\": \"2013-02-01T00:00:00\"}, {\"year\": \"2013\", \"period\": \"M03\", \"value\": 0.016, \"date\": \"2013-03-01T00:00:00\"}, {\"year\": \"2013\", \"period\": \"M04\", \"value\": 0.017, \"date\": \"2013-04-01T00:00:00\"}, {\"year\": \"2013\", \"period\": \"M05\", \"value\": 0.016, \"date\": \"2013-05-01T00:00:00\"}, {\"year\": \"2013\", \"period\": \"M06\", \"value\": 0.016, \"date\": \"2013-06-01T00:00:00\"}, {\"year\": \"2013\", \"period\": \"M07\", \"value\": 0.017, \"date\": \"2013-07-01T00:00:00\"}, {\"year\": \"2013\", \"period\": \"M08\", \"value\": 0.017, \"date\": \"2013-08-01T00:00:00\"}, {\"year\": \"2013\", \"period\": \"M09\", \"value\": 0.017, \"date\": \"2013-09-01T00:00:00\"}, {\"year\": \"2013\", \"period\": \"M10\", \"value\": 0.017, \"date\": \"2013-10-01T00:00:00\"}, {\"year\": \"2013\", \"period\": \"M11\", \"value\": 0.017, \"date\": \"2013-11-01T00:00:00\"}, {\"year\": \"2013\", \"period\": \"M12\", \"value\": 0.017, \"date\": \"2013-12-01T00:00:00\"}, {\"year\": \"2014\", \"period\": \"M01\", \"value\": 0.017, \"date\": \"2014-01-01T00:00:00\"}, {\"year\": \"2014\", \"period\": \"M02\", \"value\": 0.018000000000000002, \"date\": \"2014-02-01T00:00:00\"}, {\"year\": \"2014\", \"period\": \"M03\", \"value\": 0.018000000000000002, \"date\": \"2014-03-01T00:00:00\"}, {\"year\": \"2014\", \"period\": \"M04\", \"value\": 0.018000000000000002, \"date\": \"2014-04-01T00:00:00\"}, {\"year\": \"2014\", \"period\": \"M05\", \"value\": 0.018000000000000002, \"date\": \"2014-05-01T00:00:00\"}, {\"year\": \"2014\", \"period\": \"M06\", \"value\": 0.018000000000000002, \"date\": \"2014-06-01T00:00:00\"}, {\"year\": \"2014\", \"period\": \"M07\", \"value\": 0.019, \"date\": \"2014-07-01T00:00:00\"}, {\"year\": \"2014\", \"period\": \"M08\", \"value\": 0.018000000000000002, \"date\": \"2014-08-01T00:00:00\"}, {\"year\": \"2014\", \"period\": \"M09\", \"value\": 0.02, \"date\": \"2014-09-01T00:00:00\"}, {\"year\": \"2014\", \"period\": \"M10\", \"value\": 0.019, \"date\": \"2014-10-01T00:00:00\"}, {\"year\": \"2014\", \"period\": \"M11\", \"value\": 0.019, \"date\": \"2014-11-01T00:00:00\"}, {\"year\": \"2014\", \"period\": \"M12\", \"value\": 0.018000000000000002, \"date\": \"2014-12-01T00:00:00\"}, {\"year\": \"2015\", \"period\": \"M01\", \"value\": 0.02, \"date\": \"2015-01-01T00:00:00\"}, {\"year\": \"2015\", \"period\": \"M02\", \"value\": 0.019, \"date\": \"2015-02-01T00:00:00\"}, {\"year\": \"2015\", \"period\": \"M03\", \"value\": 0.02, \"date\": \"2015-03-01T00:00:00\"}, {\"year\": \"2015\", \"period\": \"M04\", \"value\": 0.019, \"date\": \"2015-04-01T00:00:00\"}, {\"year\": \"2015\", \"period\": \"M05\", \"value\": 0.019, \"date\": \"2015-05-01T00:00:00\"}, {\"year\": \"2015\", \"period\": \"M06\", \"value\": 0.019, \"date\": \"2015-06-01T00:00:00\"}, {\"year\": \"2015\", \"period\": \"M07\", \"value\": 0.019, \"date\": \"2015-07-01T00:00:00\"}, {\"year\": \"2015\", \"period\": \"M08\", \"value\": 0.02, \"date\": \"2015-08-01T00:00:00\"}, {\"year\": \"2015\", \"period\": \"M09\", \"value\": 0.02, \"date\": \"2015-09-01T00:00:00\"}, {\"year\": \"2015\", \"period\": \"M10\", \"value\": 0.02, \"date\": \"2015-10-01T00:00:00\"}, {\"year\": \"2015\", \"period\": \"M11\", \"value\": 0.02, \"date\": \"2015-11-01T00:00:00\"}, {\"year\": \"2015\", \"period\": \"M12\", \"value\": 0.021, \"date\": \"2015-12-01T00:00:00\"}, {\"year\": \"2016\", \"period\": \"M01\", \"value\": 0.02, \"date\": \"2016-01-01T00:00:00\"}, {\"year\": \"2016\", \"period\": \"M02\", \"value\": 0.021, \"date\": \"2016-02-01T00:00:00\"}, {\"year\": \"2016\", \"period\": \"M03\", \"value\": 0.02, \"date\": \"2016-03-01T00:00:00\"}, {\"year\": \"2016\", \"period\": \"M04\", \"value\": 0.021, \"date\": \"2016-04-01T00:00:00\"}, {\"year\": \"2016\", \"period\": \"M05\", \"value\": 0.021, \"date\": \"2016-05-01T00:00:00\"}, {\"year\": \"2016\", \"period\": \"M06\", \"value\": 0.021, \"date\": \"2016-06-01T00:00:00\"}, {\"year\": \"2016\", \"period\": \"M07\", \"value\": 0.021, \"date\": \"2016-07-01T00:00:00\"}, {\"year\": \"2016\", \"period\": \"M08\", \"value\": 0.021, \"date\": \"2016-08-01T00:00:00\"}, {\"year\": \"2016\", \"period\": \"M09\", \"value\": 0.021, \"date\": \"2016-09-01T00:00:00\"}, {\"year\": \"2016\", \"period\": \"M10\", \"value\": 0.021, \"date\": \"2016-10-01T00:00:00\"}, {\"year\": \"2016\", \"period\": \"M11\", \"value\": 0.021, \"date\": \"2016-11-01T00:00:00\"}, {\"year\": \"2016\", \"period\": \"M12\", \"value\": 0.021, \"date\": \"2016-12-01T00:00:00\"}, {\"year\": \"2017\", \"period\": \"M01\", \"value\": 0.022000000000000002, \"date\": \"2017-01-01T00:00:00\"}, {\"year\": \"2017\", \"period\": \"M02\", \"value\": 0.021, \"date\": \"2017-02-01T00:00:00\"}, {\"year\": \"2017\", \"period\": \"M03\", \"value\": 0.022000000000000002, \"date\": \"2017-03-01T00:00:00\"}, {\"year\": \"2017\", \"period\": \"M04\", \"value\": 0.021, \"date\": \"2017-04-01T00:00:00\"}, {\"year\": \"2017\", \"period\": \"M05\", \"value\": 0.021, \"date\": \"2017-05-01T00:00:00\"}, {\"year\": \"2017\", \"period\": \"M06\", \"value\": 0.022000000000000002, \"date\": \"2017-06-01T00:00:00\"}, {\"year\": \"2017\", \"period\": \"M07\", \"value\": 0.021, \"date\": \"2017-07-01T00:00:00\"}, {\"year\": \"2017\", \"period\": \"M08\", \"value\": 0.021, \"date\": \"2017-08-01T00:00:00\"}, {\"year\": \"2017\", \"period\": \"M09\", \"value\": 0.022000000000000002, \"date\": \"2017-09-01T00:00:00\"}, {\"year\": \"2017\", \"period\": \"M10\", \"value\": 0.022000000000000002, \"date\": \"2017-10-01T00:00:00\"}, {\"year\": \"2017\", \"period\": \"M11\", \"value\": 0.021, \"date\": \"2017-11-01T00:00:00\"}, {\"year\": \"2017\", \"period\": \"M12\", \"value\": 0.022000000000000002, \"date\": \"2017-12-01T00:00:00\"}, {\"year\": \"2018\", \"period\": \"M01\", \"value\": 0.021, \"date\": \"2018-01-01T00:00:00\"}, {\"year\": \"2018\", \"period\": \"M02\", \"value\": 0.022000000000000002, \"date\": \"2018-02-01T00:00:00\"}, {\"year\": \"2018\", \"period\": \"M03\", \"value\": 0.022000000000000002, \"date\": \"2018-03-01T00:00:00\"}, {\"year\": \"2018\", \"period\": \"M04\", \"value\": 0.023, \"date\": \"2018-04-01T00:00:00\"}, {\"year\": \"2018\", \"period\": \"M05\", \"value\": 0.023, \"date\": \"2018-05-01T00:00:00\"}, {\"year\": \"2018\", \"period\": \"M06\", \"value\": 0.023, \"date\": \"2018-06-01T00:00:00\"}, {\"year\": \"2018\", \"period\": \"M07\", \"value\": 0.023, \"date\": \"2018-07-01T00:00:00\"}, {\"year\": \"2018\", \"period\": \"M08\", \"value\": 0.023, \"date\": \"2018-08-01T00:00:00\"}, {\"year\": \"2018\", \"period\": \"M09\", \"value\": 0.023, \"date\": \"2018-09-01T00:00:00\"}, {\"year\": \"2018\", \"period\": \"M10\", \"value\": 0.023, \"date\": \"2018-10-01T00:00:00\"}, {\"year\": \"2018\", \"period\": \"M11\", \"value\": 0.023, \"date\": \"2018-11-01T00:00:00\"}, {\"year\": \"2018\", \"period\": \"M12\", \"value\": 0.023, \"date\": \"2018-12-01T00:00:00\"}, {\"year\": \"2019\", \"period\": \"M01\", \"value\": 0.023, \"date\": \"2019-01-01T00:00:00\"}, {\"year\": \"2019\", \"period\": \"M02\", \"value\": 0.024, \"date\": \"2019-02-01T00:00:00\"}, {\"year\": \"2019\", \"period\": \"M03\", \"value\": 0.023, \"date\": \"2019-03-01T00:00:00\"}, {\"year\": \"2019\", \"period\": \"M04\", \"value\": 0.023, \"date\": \"2019-04-01T00:00:00\"}, {\"year\": \"2019\", \"period\": \"M05\", \"value\": 0.023, \"date\": \"2019-05-01T00:00:00\"}, {\"year\": \"2019\", \"period\": \"M06\", \"value\": 0.023, \"date\": \"2019-06-01T00:00:00\"}, {\"year\": \"2019\", \"period\": \"M07\", \"value\": 0.024, \"date\": \"2019-07-01T00:00:00\"}, {\"year\": \"2019\", \"period\": \"M08\", \"value\": 0.024, \"date\": \"2019-08-01T00:00:00\"}, {\"year\": \"2019\", \"period\": \"M09\", \"value\": 0.023, \"date\": \"2019-09-01T00:00:00\"}, {\"year\": \"2019\", \"period\": \"M10\", \"value\": 0.023, \"date\": \"2019-10-01T00:00:00\"}, {\"year\": \"2019\", \"period\": \"M11\", \"value\": 0.023, \"date\": \"2019-11-01T00:00:00\"}, {\"year\": \"2019\", \"period\": \"M12\", \"value\": 0.023, \"date\": \"2019-12-01T00:00:00\"}, {\"year\": \"2020\", \"period\": \"M01\", \"value\": 0.023, \"date\": \"2020-01-01T00:00:00\"}, {\"year\": \"2020\", \"period\": \"M02\", \"value\": 0.022000000000000002, \"date\": \"2020-02-01T00:00:00\"}, {\"year\": \"2020\", \"period\": \"M03\", \"value\": 0.019, \"date\": \"2020-03-01T00:00:00\"}, {\"year\": \"2020\", \"period\": \"M04\", \"value\": 0.016, \"date\": \"2020-04-01T00:00:00\"}, {\"year\": \"2020\", \"period\": \"M05\", \"value\": 0.017, \"date\": \"2020-05-01T00:00:00\"}, {\"year\": \"2020\", \"period\": \"M06\", \"value\": 0.019, \"date\": \"2020-06-01T00:00:00\"}, {\"year\": \"2020\", \"period\": \"M07\", \"value\": 0.023, \"date\": \"2020-07-01T00:00:00\"}, {\"year\": \"2020\", \"period\": \"M08\", \"value\": 0.021, \"date\": \"2020-08-01T00:00:00\"}, {\"year\": \"2020\", \"period\": \"M09\", \"value\": 0.023, \"date\": \"2020-09-01T00:00:00\"}, {\"year\": \"2020\", \"period\": \"M10\", \"value\": 0.024, \"date\": \"2020-10-01T00:00:00\"}, {\"year\": \"2020\", \"period\": \"M11\", \"value\": 0.023, \"date\": \"2020-11-01T00:00:00\"}, {\"year\": \"2020\", \"period\": \"M12\", \"value\": 0.024, \"date\": \"2020-12-01T00:00:00\"}, {\"year\": \"2021\", \"period\": \"M01\", \"value\": 0.023, \"date\": \"2021-01-01T00:00:00\"}, {\"year\": \"2021\", \"period\": \"M02\", \"value\": 0.024, \"date\": \"2021-02-01T00:00:00\"}, {\"year\": \"2021\", \"period\": \"M03\", \"value\": 0.025, \"date\": \"2021-03-01T00:00:00\"}, {\"year\": \"2021\", \"period\": \"M04\", \"value\": 0.027999999999999997, \"date\": \"2021-04-01T00:00:00\"}, {\"year\": \"2021\", \"period\": \"M05\", \"value\": 0.025, \"date\": \"2021-05-01T00:00:00\"}, {\"year\": \"2021\", \"period\": \"M06\", \"value\": 0.027000000000000003, \"date\": \"2021-06-01T00:00:00\"}, {\"year\": \"2021\", \"period\": \"M07\", \"value\": 0.027000000000000003, \"date\": \"2021-07-01T00:00:00\"}, {\"year\": \"2021\", \"period\": \"M08\", \"value\": 0.028999999999999998, \"date\": \"2021-08-01T00:00:00\"}]}}, {\"mode\": \"vega-lite\"});\n",
       "</script>"
      ],
      "text/plain": [
       "alt.Chart(...)"
      ]
     },
     "execution_count": 27,
     "metadata": {},
     "output_type": "execute_result"
    }
   ],
   "source": [
    "alt.Chart(df).mark_area(\n",
    "    color='lightblue',\n",
    "    interpolate='step-before',\n",
    "    line=True\n",
    ").encode(\n",
    "    x=alt.X('date:T', axis=alt.Axis(title='')),\n",
    "    y=alt.Y('value:Q', axis=alt.Axis(title='Quit rate', format='%')),\n",
    ").properties(\n",
    "    width=800\n",
    ")"
   ]
  }
 ],
 "metadata": {
  "kernelspec": {
   "display_name": "Python 3 (ipykernel)",
   "language": "python",
   "name": "python3"
  },
  "language_info": {
   "codemirror_mode": {
    "name": "ipython",
    "version": 3
   },
   "file_extension": ".py",
   "mimetype": "text/x-python",
   "name": "python",
   "nbconvert_exporter": "python",
   "pygments_lexer": "ipython3",
   "version": "3.9.6"
  }
 },
 "nbformat": 4,
 "nbformat_minor": 5
}
